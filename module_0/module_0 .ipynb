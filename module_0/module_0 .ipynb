{
 "cells": [
  {
   "cell_type": "code",
   "execution_count": 102,
   "metadata": {},
   "outputs": [],
   "source": [
    "import numpy as np\n",
    "number = 30"
   ]
  },
  {
   "cell_type": "code",
   "execution_count": 103,
   "metadata": {},
   "outputs": [],
   "source": [
    "def game_core_v3(number):\n",
    "    '''Функция угадывает число от 1 до 100, используя бинарное деление '''\n",
    "    count = 0             # счетчик попыток\n",
    "    predict = 50          # первое предполагаемое число\n",
    "    var = 50              # изменяемая переменная, которую мы будем прибавлять или вычитать от предполагаемого числа\n",
    "    while True:         \n",
    "        count += 1            # плюсуем попытку\n",
    "        if number > predict:     # предполагаемое число сравниваем с угадываемым\n",
    "            if var <= 1:         # мы не можем допустить, чтобы изменяемая переменная стала равна 0\n",
    "                var = 2\n",
    "            predict += int(var/2)\n",
    "            var = int(var/2)\n",
    "            \n",
    "        elif number < predict:    \n",
    "            if var <= 1:\n",
    "                var = 2\n",
    "            predict -= int(var/2)\n",
    "            var = int(var/2)\n",
    "           \n",
    "        elif number == predict:    \n",
    "            return(count)    # выход из цикла, если угадали число\n",
    "            "
   ]
  },
  {
   "cell_type": "code",
   "execution_count": 104,
   "metadata": {},
   "outputs": [],
   "source": [
    "def score_game(game_core):\n",
    "    '''Запускаем игру 1000 раз, чтобы узнать, как быстро игра угадывает число'''\n",
    "    count_ls = []\n",
    "    np.random.seed(1)  # фиксируем RANDOM SEED, чтобы ваш эксперимент был воспроизводим!\n",
    "    random_array = np.random.randint(1,101, size=(1000))\n",
    "    for number in random_array:\n",
    "        count_ls.append(game_core(number))\n",
    "        \n",
    "    score = int(np.mean(count_ls))\n",
    "    print(f\"Ваш алгоритм угадывает число в среднем за {score} попыток\")\n",
    "    return(score)"
   ]
  },
  {
   "cell_type": "code",
   "execution_count": 105,
   "metadata": {},
   "outputs": [
    {
     "name": "stdout",
     "output_type": "stream",
     "text": [
      "Ваш алгоритм угадывает число в среднем за 5 попыток\n"
     ]
    },
    {
     "data": {
      "text/plain": [
       "5"
      ]
     },
     "execution_count": 105,
     "metadata": {},
     "output_type": "execute_result"
    }
   ],
   "source": [
    "score_game(game_core_v3)"
   ]
  },
  {
   "cell_type": "code",
   "execution_count": null,
   "metadata": {},
   "outputs": [],
   "source": []
  }
 ],
 "metadata": {
  "kernelspec": {
   "display_name": "Python 3",
   "language": "python",
   "name": "python3"
  },
  "language_info": {
   "codemirror_mode": {
    "name": "ipython",
    "version": 3
   },
   "file_extension": ".py",
   "mimetype": "text/x-python",
   "name": "python",
   "nbconvert_exporter": "python",
   "pygments_lexer": "ipython3",
   "version": "3.8.5"
  }
 },
 "nbformat": 4,
 "nbformat_minor": 4
}
